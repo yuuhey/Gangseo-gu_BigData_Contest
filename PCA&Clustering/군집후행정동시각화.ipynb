{
  "nbformat": 4,
  "nbformat_minor": 0,
  "metadata": {
    "colab": {
      "provenance": []
    },
    "kernelspec": {
      "name": "python3",
      "display_name": "Python 3"
    },
    "language_info": {
      "name": "python"
    }
  },
  "cells": [
    {
      "cell_type": "markdown",
      "source": [
        "target - 가양제2동, 가양제3동, 공항동, 등촌제3동, 발산제1동, 화곡제2동"
      ],
      "metadata": {
        "id": "6UQI7Ap_AgFi"
      }
    },
    {
      "cell_type": "code",
      "execution_count": 1,
      "metadata": {
        "colab": {
          "base_uri": "https://localhost:8080/"
        },
        "id": "H7LzIDuRAeLs",
        "outputId": "631f98c0-5c3b-490d-fe01-053fbf54471a"
      },
      "outputs": [
        {
          "output_type": "stream",
          "name": "stdout",
          "text": [
            "Reading package lists... Done\n",
            "Building dependency tree       \n",
            "Reading state information... Done\n",
            "fonts-nanum is already the newest version (20180306-3).\n",
            "0 upgraded, 0 newly installed, 0 to remove and 23 not upgraded.\n",
            "/usr/share/fonts: caching, new cache contents: 0 fonts, 1 dirs\n",
            "/usr/share/fonts/truetype: caching, new cache contents: 0 fonts, 3 dirs\n",
            "/usr/share/fonts/truetype/humor-sans: caching, new cache contents: 1 fonts, 0 dirs\n",
            "/usr/share/fonts/truetype/liberation: caching, new cache contents: 16 fonts, 0 dirs\n",
            "/usr/share/fonts/truetype/nanum: caching, new cache contents: 10 fonts, 0 dirs\n",
            "/usr/local/share/fonts: caching, new cache contents: 0 fonts, 0 dirs\n",
            "/root/.local/share/fonts: skipping, no such directory\n",
            "/root/.fonts: skipping, no such directory\n",
            "/usr/share/fonts/truetype: skipping, looped directory detected\n",
            "/usr/share/fonts/truetype/humor-sans: skipping, looped directory detected\n",
            "/usr/share/fonts/truetype/liberation: skipping, looped directory detected\n",
            "/usr/share/fonts/truetype/nanum: skipping, looped directory detected\n",
            "/var/cache/fontconfig: cleaning cache directory\n",
            "/root/.cache/fontconfig: not cleaning non-existent cache directory\n",
            "/root/.fontconfig: not cleaning non-existent cache directory\n",
            "fc-cache: succeeded\n"
          ]
        }
      ],
      "source": [
        "# 코랩 한글 깨지는거\n",
        "!sudo apt-get install -y fonts-nanum\n",
        "!sudo fc-cache -fv\n",
        "!rm ~/.cache/matplotlib -rf"
      ]
    },
    {
      "cell_type": "code",
      "source": [
        "import matplotlib.pyplot as plt\n",
        "\n",
        "plt.rc('font', family='NanumBarunGothic') "
      ],
      "metadata": {
        "id": "RMKjhDA8AnwU"
      },
      "execution_count": 2,
      "outputs": []
    },
    {
      "cell_type": "code",
      "source": [
        "# 그래프 한글 안깨지게\n",
        "import seaborn as sns\n",
        "\n",
        "!sudo apt-get install -y fonts-nanum\n",
        "!sudo fc-cache -fv\n",
        "!rm ~/.cache/matplotlib -rf\n",
        "\n",
        "\n",
        "import matplotlib.pyplot as plt\n",
        "\n",
        "# 브라우저에서 바로 그려지도록 \n",
        "%matplotlib inline\n",
        "\n",
        "# 그래프에 retina display 적용\n",
        "%config InlineBackend.figure_format = 'retina'\n",
        "\n",
        "# Colab 의 한글 폰트 설정\n",
        "plt.rc('font', family='NanumBarunGothic') \n",
        "\n",
        "# 유니코드에서  음수 부호설정\n",
        "plt.rc('axes', unicode_minus=False)"
      ],
      "metadata": {
        "colab": {
          "base_uri": "https://localhost:8080/"
        },
        "id": "34Aj9RCyBL0e",
        "outputId": "3a84be3b-202a-40b7-934d-a7b218a51910"
      },
      "execution_count": 3,
      "outputs": [
        {
          "output_type": "stream",
          "name": "stdout",
          "text": [
            "Reading package lists... Done\n",
            "Building dependency tree       \n",
            "Reading state information... Done\n",
            "fonts-nanum is already the newest version (20180306-3).\n",
            "0 upgraded, 0 newly installed, 0 to remove and 23 not upgraded.\n",
            "/usr/share/fonts: caching, new cache contents: 0 fonts, 1 dirs\n",
            "/usr/share/fonts/truetype: caching, new cache contents: 0 fonts, 3 dirs\n",
            "/usr/share/fonts/truetype/humor-sans: caching, new cache contents: 1 fonts, 0 dirs\n",
            "/usr/share/fonts/truetype/liberation: caching, new cache contents: 16 fonts, 0 dirs\n",
            "/usr/share/fonts/truetype/nanum: caching, new cache contents: 10 fonts, 0 dirs\n",
            "/usr/local/share/fonts: caching, new cache contents: 0 fonts, 0 dirs\n",
            "/root/.local/share/fonts: skipping, no such directory\n",
            "/root/.fonts: skipping, no such directory\n",
            "/usr/share/fonts/truetype: skipping, looped directory detected\n",
            "/usr/share/fonts/truetype/humor-sans: skipping, looped directory detected\n",
            "/usr/share/fonts/truetype/liberation: skipping, looped directory detected\n",
            "/usr/share/fonts/truetype/nanum: skipping, looped directory detected\n",
            "/var/cache/fontconfig: cleaning cache directory\n",
            "/root/.cache/fontconfig: not cleaning non-existent cache directory\n",
            "/root/.fontconfig: not cleaning non-existent cache directory\n",
            "fc-cache: succeeded\n"
          ]
        }
      ]
    },
    {
      "cell_type": "code",
      "source": [
        "import warnings\n",
        "warnings.simplefilter(action='ignore', category=FutureWarning) # FutureWarning 제거"
      ],
      "metadata": {
        "id": "h8yPkjfNBPO-"
      },
      "execution_count": 4,
      "outputs": []
    },
    {
      "cell_type": "code",
      "source": [
        "import matplotlib.pyplot as plt\n",
        "import numpy as np\n",
        "import pandas as pd\n",
        "import seaborn as sns\n",
        "%matplotlib inline\n",
        "\n",
        "a = pd.read_csv(\"merge_target.csv\", index_col = 0)\n",
        "\n",
        "a = a.fillna(0)\n"
      ],
      "metadata": {
        "id": "Zj6ob7d8BQ1C"
      },
      "execution_count": 10,
      "outputs": []
    },
    {
      "cell_type": "code",
      "source": [
        "a"
      ],
      "metadata": {
        "colab": {
          "base_uri": "https://localhost:8080/",
          "height": 1000
        },
        "id": "t9UPClSFBYBN",
        "outputId": "f6a1a1c4-8c1f-4e41-a866-56f4bbb4fbed"
      },
      "execution_count": 11,
      "outputs": [
        {
          "output_type": "execute_result",
          "data": {
            "text/plain": [
              "      행정동  키즈카페수       p_l  sub_num  정류소수  유치원명  특수유아수  유아수  어린이집_어린이수  \\\n",
              "0   가양제1동     11  0.000105        3   249     3      0  217        830   \n",
              "1   가양제2동      3  0.000053        1    91     3      4  165        198   \n",
              "2   가양제3동      2  0.000056        0    33     4      0  364        174   \n",
              "3     공항동      4  0.000024        3   142     4      5  221        745   \n",
              "4   등촌제1동      3  0.000231        2   118     1      0  141        358   \n",
              "5   등촌제2동      4  0.000104        0    64     2      0  129        220   \n",
              "6   등촌제3동      9  0.000224        0   128     5      0  379        447   \n",
              "7   발산제1동      5  0.000101        0   157     4     10  783        599   \n",
              "8   방화제1동      6  0.000137        1   130     4     10  410        824   \n",
              "9   방화제2동      5  0.000025        3    74     4      4  247        342   \n",
              "10  방화제3동      8  0.000036        1    49     3      0  192        389   \n",
              "11    염창동      3  0.000119        1    37     1      0   62        878   \n",
              "12   우장산동      7  0.000146        1   109     5      0  349        611   \n",
              "13   화곡본동     12  0.000115        0    76     4      0  179        664   \n",
              "14  화곡제1동     10  0.000181        1    89     3      3  105        652   \n",
              "15  화곡제2동      2  0.000136        0    39     2      0  141        371   \n",
              "16  화곡제3동      3  0.000194        0    45     1      0  155        405   \n",
              "17  화곡제4동      6  0.000099        0    48     4      4  164        338   \n",
              "18  화곡제6동      2  0.000131        0    88     2      0  224        228   \n",
              "19  화곡제8동      4  0.000157        1    42     1      0  105        255   \n",
              "\n",
              "    0~9세_아동수  초등학교명  전체 기초생활수급자수  결혼이민자  귀화 및 외국국적 자녀  국내출생  전체 차상위수급권자수  \n",
              "0       1458    1.0          234     74             0    50          212  \n",
              "1        452    2.0         2988     39             0    49          643  \n",
              "2        693    1.0         2130     61             0    49          633  \n",
              "3       3177    2.0          872    129            13   176         1048  \n",
              "4       1281    1.0          227     55             0    47          143  \n",
              "5       1059    2.0          357     44             0    48          266  \n",
              "6       1505    5.0         5408     80             5    82         1098  \n",
              "7       2640    3.0         1217     72             0   144          882  \n",
              "8       3407    3.0          924     85             0   158          710  \n",
              "9       1080    1.0         1357     83             6    85          527  \n",
              "10      1137    3.0         1949     69             0    78          549  \n",
              "11      3637    3.0          179     62             0    75          162  \n",
              "12      3158    1.0          430     77             0   111          351  \n",
              "13      1705    2.0         1452    144            13   171         1054  \n",
              "14      2203    2.0         1618    268            26   261          847  \n",
              "15       923    1.0          808     62            11    93          604  \n",
              "16      1071    0.0          555     37             5    49          285  \n",
              "17       939    1.0          852     84             9   103          557  \n",
              "18      1035    3.0          805     74             0    94          413  \n",
              "19      1032    0.0          825     93            17   125          696  "
            ],
            "text/html": [
              "\n",
              "  <div id=\"df-710b51a1-c92b-4dc4-99e9-b73ddb393b0b\">\n",
              "    <div class=\"colab-df-container\">\n",
              "      <div>\n",
              "<style scoped>\n",
              "    .dataframe tbody tr th:only-of-type {\n",
              "        vertical-align: middle;\n",
              "    }\n",
              "\n",
              "    .dataframe tbody tr th {\n",
              "        vertical-align: top;\n",
              "    }\n",
              "\n",
              "    .dataframe thead th {\n",
              "        text-align: right;\n",
              "    }\n",
              "</style>\n",
              "<table border=\"1\" class=\"dataframe\">\n",
              "  <thead>\n",
              "    <tr style=\"text-align: right;\">\n",
              "      <th></th>\n",
              "      <th>행정동</th>\n",
              "      <th>키즈카페수</th>\n",
              "      <th>p_l</th>\n",
              "      <th>sub_num</th>\n",
              "      <th>정류소수</th>\n",
              "      <th>유치원명</th>\n",
              "      <th>특수유아수</th>\n",
              "      <th>유아수</th>\n",
              "      <th>어린이집_어린이수</th>\n",
              "      <th>0~9세_아동수</th>\n",
              "      <th>초등학교명</th>\n",
              "      <th>전체 기초생활수급자수</th>\n",
              "      <th>결혼이민자</th>\n",
              "      <th>귀화 및 외국국적 자녀</th>\n",
              "      <th>국내출생</th>\n",
              "      <th>전체 차상위수급권자수</th>\n",
              "    </tr>\n",
              "  </thead>\n",
              "  <tbody>\n",
              "    <tr>\n",
              "      <th>0</th>\n",
              "      <td>가양제1동</td>\n",
              "      <td>11</td>\n",
              "      <td>0.000105</td>\n",
              "      <td>3</td>\n",
              "      <td>249</td>\n",
              "      <td>3</td>\n",
              "      <td>0</td>\n",
              "      <td>217</td>\n",
              "      <td>830</td>\n",
              "      <td>1458</td>\n",
              "      <td>1.0</td>\n",
              "      <td>234</td>\n",
              "      <td>74</td>\n",
              "      <td>0</td>\n",
              "      <td>50</td>\n",
              "      <td>212</td>\n",
              "    </tr>\n",
              "    <tr>\n",
              "      <th>1</th>\n",
              "      <td>가양제2동</td>\n",
              "      <td>3</td>\n",
              "      <td>0.000053</td>\n",
              "      <td>1</td>\n",
              "      <td>91</td>\n",
              "      <td>3</td>\n",
              "      <td>4</td>\n",
              "      <td>165</td>\n",
              "      <td>198</td>\n",
              "      <td>452</td>\n",
              "      <td>2.0</td>\n",
              "      <td>2988</td>\n",
              "      <td>39</td>\n",
              "      <td>0</td>\n",
              "      <td>49</td>\n",
              "      <td>643</td>\n",
              "    </tr>\n",
              "    <tr>\n",
              "      <th>2</th>\n",
              "      <td>가양제3동</td>\n",
              "      <td>2</td>\n",
              "      <td>0.000056</td>\n",
              "      <td>0</td>\n",
              "      <td>33</td>\n",
              "      <td>4</td>\n",
              "      <td>0</td>\n",
              "      <td>364</td>\n",
              "      <td>174</td>\n",
              "      <td>693</td>\n",
              "      <td>1.0</td>\n",
              "      <td>2130</td>\n",
              "      <td>61</td>\n",
              "      <td>0</td>\n",
              "      <td>49</td>\n",
              "      <td>633</td>\n",
              "    </tr>\n",
              "    <tr>\n",
              "      <th>3</th>\n",
              "      <td>공항동</td>\n",
              "      <td>4</td>\n",
              "      <td>0.000024</td>\n",
              "      <td>3</td>\n",
              "      <td>142</td>\n",
              "      <td>4</td>\n",
              "      <td>5</td>\n",
              "      <td>221</td>\n",
              "      <td>745</td>\n",
              "      <td>3177</td>\n",
              "      <td>2.0</td>\n",
              "      <td>872</td>\n",
              "      <td>129</td>\n",
              "      <td>13</td>\n",
              "      <td>176</td>\n",
              "      <td>1048</td>\n",
              "    </tr>\n",
              "    <tr>\n",
              "      <th>4</th>\n",
              "      <td>등촌제1동</td>\n",
              "      <td>3</td>\n",
              "      <td>0.000231</td>\n",
              "      <td>2</td>\n",
              "      <td>118</td>\n",
              "      <td>1</td>\n",
              "      <td>0</td>\n",
              "      <td>141</td>\n",
              "      <td>358</td>\n",
              "      <td>1281</td>\n",
              "      <td>1.0</td>\n",
              "      <td>227</td>\n",
              "      <td>55</td>\n",
              "      <td>0</td>\n",
              "      <td>47</td>\n",
              "      <td>143</td>\n",
              "    </tr>\n",
              "    <tr>\n",
              "      <th>5</th>\n",
              "      <td>등촌제2동</td>\n",
              "      <td>4</td>\n",
              "      <td>0.000104</td>\n",
              "      <td>0</td>\n",
              "      <td>64</td>\n",
              "      <td>2</td>\n",
              "      <td>0</td>\n",
              "      <td>129</td>\n",
              "      <td>220</td>\n",
              "      <td>1059</td>\n",
              "      <td>2.0</td>\n",
              "      <td>357</td>\n",
              "      <td>44</td>\n",
              "      <td>0</td>\n",
              "      <td>48</td>\n",
              "      <td>266</td>\n",
              "    </tr>\n",
              "    <tr>\n",
              "      <th>6</th>\n",
              "      <td>등촌제3동</td>\n",
              "      <td>9</td>\n",
              "      <td>0.000224</td>\n",
              "      <td>0</td>\n",
              "      <td>128</td>\n",
              "      <td>5</td>\n",
              "      <td>0</td>\n",
              "      <td>379</td>\n",
              "      <td>447</td>\n",
              "      <td>1505</td>\n",
              "      <td>5.0</td>\n",
              "      <td>5408</td>\n",
              "      <td>80</td>\n",
              "      <td>5</td>\n",
              "      <td>82</td>\n",
              "      <td>1098</td>\n",
              "    </tr>\n",
              "    <tr>\n",
              "      <th>7</th>\n",
              "      <td>발산제1동</td>\n",
              "      <td>5</td>\n",
              "      <td>0.000101</td>\n",
              "      <td>0</td>\n",
              "      <td>157</td>\n",
              "      <td>4</td>\n",
              "      <td>10</td>\n",
              "      <td>783</td>\n",
              "      <td>599</td>\n",
              "      <td>2640</td>\n",
              "      <td>3.0</td>\n",
              "      <td>1217</td>\n",
              "      <td>72</td>\n",
              "      <td>0</td>\n",
              "      <td>144</td>\n",
              "      <td>882</td>\n",
              "    </tr>\n",
              "    <tr>\n",
              "      <th>8</th>\n",
              "      <td>방화제1동</td>\n",
              "      <td>6</td>\n",
              "      <td>0.000137</td>\n",
              "      <td>1</td>\n",
              "      <td>130</td>\n",
              "      <td>4</td>\n",
              "      <td>10</td>\n",
              "      <td>410</td>\n",
              "      <td>824</td>\n",
              "      <td>3407</td>\n",
              "      <td>3.0</td>\n",
              "      <td>924</td>\n",
              "      <td>85</td>\n",
              "      <td>0</td>\n",
              "      <td>158</td>\n",
              "      <td>710</td>\n",
              "    </tr>\n",
              "    <tr>\n",
              "      <th>9</th>\n",
              "      <td>방화제2동</td>\n",
              "      <td>5</td>\n",
              "      <td>0.000025</td>\n",
              "      <td>3</td>\n",
              "      <td>74</td>\n",
              "      <td>4</td>\n",
              "      <td>4</td>\n",
              "      <td>247</td>\n",
              "      <td>342</td>\n",
              "      <td>1080</td>\n",
              "      <td>1.0</td>\n",
              "      <td>1357</td>\n",
              "      <td>83</td>\n",
              "      <td>6</td>\n",
              "      <td>85</td>\n",
              "      <td>527</td>\n",
              "    </tr>\n",
              "    <tr>\n",
              "      <th>10</th>\n",
              "      <td>방화제3동</td>\n",
              "      <td>8</td>\n",
              "      <td>0.000036</td>\n",
              "      <td>1</td>\n",
              "      <td>49</td>\n",
              "      <td>3</td>\n",
              "      <td>0</td>\n",
              "      <td>192</td>\n",
              "      <td>389</td>\n",
              "      <td>1137</td>\n",
              "      <td>3.0</td>\n",
              "      <td>1949</td>\n",
              "      <td>69</td>\n",
              "      <td>0</td>\n",
              "      <td>78</td>\n",
              "      <td>549</td>\n",
              "    </tr>\n",
              "    <tr>\n",
              "      <th>11</th>\n",
              "      <td>염창동</td>\n",
              "      <td>3</td>\n",
              "      <td>0.000119</td>\n",
              "      <td>1</td>\n",
              "      <td>37</td>\n",
              "      <td>1</td>\n",
              "      <td>0</td>\n",
              "      <td>62</td>\n",
              "      <td>878</td>\n",
              "      <td>3637</td>\n",
              "      <td>3.0</td>\n",
              "      <td>179</td>\n",
              "      <td>62</td>\n",
              "      <td>0</td>\n",
              "      <td>75</td>\n",
              "      <td>162</td>\n",
              "    </tr>\n",
              "    <tr>\n",
              "      <th>12</th>\n",
              "      <td>우장산동</td>\n",
              "      <td>7</td>\n",
              "      <td>0.000146</td>\n",
              "      <td>1</td>\n",
              "      <td>109</td>\n",
              "      <td>5</td>\n",
              "      <td>0</td>\n",
              "      <td>349</td>\n",
              "      <td>611</td>\n",
              "      <td>3158</td>\n",
              "      <td>1.0</td>\n",
              "      <td>430</td>\n",
              "      <td>77</td>\n",
              "      <td>0</td>\n",
              "      <td>111</td>\n",
              "      <td>351</td>\n",
              "    </tr>\n",
              "    <tr>\n",
              "      <th>13</th>\n",
              "      <td>화곡본동</td>\n",
              "      <td>12</td>\n",
              "      <td>0.000115</td>\n",
              "      <td>0</td>\n",
              "      <td>76</td>\n",
              "      <td>4</td>\n",
              "      <td>0</td>\n",
              "      <td>179</td>\n",
              "      <td>664</td>\n",
              "      <td>1705</td>\n",
              "      <td>2.0</td>\n",
              "      <td>1452</td>\n",
              "      <td>144</td>\n",
              "      <td>13</td>\n",
              "      <td>171</td>\n",
              "      <td>1054</td>\n",
              "    </tr>\n",
              "    <tr>\n",
              "      <th>14</th>\n",
              "      <td>화곡제1동</td>\n",
              "      <td>10</td>\n",
              "      <td>0.000181</td>\n",
              "      <td>1</td>\n",
              "      <td>89</td>\n",
              "      <td>3</td>\n",
              "      <td>3</td>\n",
              "      <td>105</td>\n",
              "      <td>652</td>\n",
              "      <td>2203</td>\n",
              "      <td>2.0</td>\n",
              "      <td>1618</td>\n",
              "      <td>268</td>\n",
              "      <td>26</td>\n",
              "      <td>261</td>\n",
              "      <td>847</td>\n",
              "    </tr>\n",
              "    <tr>\n",
              "      <th>15</th>\n",
              "      <td>화곡제2동</td>\n",
              "      <td>2</td>\n",
              "      <td>0.000136</td>\n",
              "      <td>0</td>\n",
              "      <td>39</td>\n",
              "      <td>2</td>\n",
              "      <td>0</td>\n",
              "      <td>141</td>\n",
              "      <td>371</td>\n",
              "      <td>923</td>\n",
              "      <td>1.0</td>\n",
              "      <td>808</td>\n",
              "      <td>62</td>\n",
              "      <td>11</td>\n",
              "      <td>93</td>\n",
              "      <td>604</td>\n",
              "    </tr>\n",
              "    <tr>\n",
              "      <th>16</th>\n",
              "      <td>화곡제3동</td>\n",
              "      <td>3</td>\n",
              "      <td>0.000194</td>\n",
              "      <td>0</td>\n",
              "      <td>45</td>\n",
              "      <td>1</td>\n",
              "      <td>0</td>\n",
              "      <td>155</td>\n",
              "      <td>405</td>\n",
              "      <td>1071</td>\n",
              "      <td>0.0</td>\n",
              "      <td>555</td>\n",
              "      <td>37</td>\n",
              "      <td>5</td>\n",
              "      <td>49</td>\n",
              "      <td>285</td>\n",
              "    </tr>\n",
              "    <tr>\n",
              "      <th>17</th>\n",
              "      <td>화곡제4동</td>\n",
              "      <td>6</td>\n",
              "      <td>0.000099</td>\n",
              "      <td>0</td>\n",
              "      <td>48</td>\n",
              "      <td>4</td>\n",
              "      <td>4</td>\n",
              "      <td>164</td>\n",
              "      <td>338</td>\n",
              "      <td>939</td>\n",
              "      <td>1.0</td>\n",
              "      <td>852</td>\n",
              "      <td>84</td>\n",
              "      <td>9</td>\n",
              "      <td>103</td>\n",
              "      <td>557</td>\n",
              "    </tr>\n",
              "    <tr>\n",
              "      <th>18</th>\n",
              "      <td>화곡제6동</td>\n",
              "      <td>2</td>\n",
              "      <td>0.000131</td>\n",
              "      <td>0</td>\n",
              "      <td>88</td>\n",
              "      <td>2</td>\n",
              "      <td>0</td>\n",
              "      <td>224</td>\n",
              "      <td>228</td>\n",
              "      <td>1035</td>\n",
              "      <td>3.0</td>\n",
              "      <td>805</td>\n",
              "      <td>74</td>\n",
              "      <td>0</td>\n",
              "      <td>94</td>\n",
              "      <td>413</td>\n",
              "    </tr>\n",
              "    <tr>\n",
              "      <th>19</th>\n",
              "      <td>화곡제8동</td>\n",
              "      <td>4</td>\n",
              "      <td>0.000157</td>\n",
              "      <td>1</td>\n",
              "      <td>42</td>\n",
              "      <td>1</td>\n",
              "      <td>0</td>\n",
              "      <td>105</td>\n",
              "      <td>255</td>\n",
              "      <td>1032</td>\n",
              "      <td>0.0</td>\n",
              "      <td>825</td>\n",
              "      <td>93</td>\n",
              "      <td>17</td>\n",
              "      <td>125</td>\n",
              "      <td>696</td>\n",
              "    </tr>\n",
              "  </tbody>\n",
              "</table>\n",
              "</div>\n",
              "      <button class=\"colab-df-convert\" onclick=\"convertToInteractive('df-710b51a1-c92b-4dc4-99e9-b73ddb393b0b')\"\n",
              "              title=\"Convert this dataframe to an interactive table.\"\n",
              "              style=\"display:none;\">\n",
              "        \n",
              "  <svg xmlns=\"http://www.w3.org/2000/svg\" height=\"24px\"viewBox=\"0 0 24 24\"\n",
              "       width=\"24px\">\n",
              "    <path d=\"M0 0h24v24H0V0z\" fill=\"none\"/>\n",
              "    <path d=\"M18.56 5.44l.94 2.06.94-2.06 2.06-.94-2.06-.94-.94-2.06-.94 2.06-2.06.94zm-11 1L8.5 8.5l.94-2.06 2.06-.94-2.06-.94L8.5 2.5l-.94 2.06-2.06.94zm10 10l.94 2.06.94-2.06 2.06-.94-2.06-.94-.94-2.06-.94 2.06-2.06.94z\"/><path d=\"M17.41 7.96l-1.37-1.37c-.4-.4-.92-.59-1.43-.59-.52 0-1.04.2-1.43.59L10.3 9.45l-7.72 7.72c-.78.78-.78 2.05 0 2.83L4 21.41c.39.39.9.59 1.41.59.51 0 1.02-.2 1.41-.59l7.78-7.78 2.81-2.81c.8-.78.8-2.07 0-2.86zM5.41 20L4 18.59l7.72-7.72 1.47 1.35L5.41 20z\"/>\n",
              "  </svg>\n",
              "      </button>\n",
              "      \n",
              "  <style>\n",
              "    .colab-df-container {\n",
              "      display:flex;\n",
              "      flex-wrap:wrap;\n",
              "      gap: 12px;\n",
              "    }\n",
              "\n",
              "    .colab-df-convert {\n",
              "      background-color: #E8F0FE;\n",
              "      border: none;\n",
              "      border-radius: 50%;\n",
              "      cursor: pointer;\n",
              "      display: none;\n",
              "      fill: #1967D2;\n",
              "      height: 32px;\n",
              "      padding: 0 0 0 0;\n",
              "      width: 32px;\n",
              "    }\n",
              "\n",
              "    .colab-df-convert:hover {\n",
              "      background-color: #E2EBFA;\n",
              "      box-shadow: 0px 1px 2px rgba(60, 64, 67, 0.3), 0px 1px 3px 1px rgba(60, 64, 67, 0.15);\n",
              "      fill: #174EA6;\n",
              "    }\n",
              "\n",
              "    [theme=dark] .colab-df-convert {\n",
              "      background-color: #3B4455;\n",
              "      fill: #D2E3FC;\n",
              "    }\n",
              "\n",
              "    [theme=dark] .colab-df-convert:hover {\n",
              "      background-color: #434B5C;\n",
              "      box-shadow: 0px 1px 3px 1px rgba(0, 0, 0, 0.15);\n",
              "      filter: drop-shadow(0px 1px 2px rgba(0, 0, 0, 0.3));\n",
              "      fill: #FFFFFF;\n",
              "    }\n",
              "  </style>\n",
              "\n",
              "      <script>\n",
              "        const buttonEl =\n",
              "          document.querySelector('#df-710b51a1-c92b-4dc4-99e9-b73ddb393b0b button.colab-df-convert');\n",
              "        buttonEl.style.display =\n",
              "          google.colab.kernel.accessAllowed ? 'block' : 'none';\n",
              "\n",
              "        async function convertToInteractive(key) {\n",
              "          const element = document.querySelector('#df-710b51a1-c92b-4dc4-99e9-b73ddb393b0b');\n",
              "          const dataTable =\n",
              "            await google.colab.kernel.invokeFunction('convertToInteractive',\n",
              "                                                     [key], {});\n",
              "          if (!dataTable) return;\n",
              "\n",
              "          const docLinkHtml = 'Like what you see? Visit the ' +\n",
              "            '<a target=\"_blank\" href=https://colab.research.google.com/notebooks/data_table.ipynb>data table notebook</a>'\n",
              "            + ' to learn more about interactive tables.';\n",
              "          element.innerHTML = '';\n",
              "          dataTable['output_type'] = 'display_data';\n",
              "          await google.colab.output.renderOutput(dataTable, element);\n",
              "          const docLink = document.createElement('div');\n",
              "          docLink.innerHTML = docLinkHtml;\n",
              "          element.appendChild(docLink);\n",
              "        }\n",
              "      </script>\n",
              "    </div>\n",
              "  </div>\n",
              "  "
            ]
          },
          "metadata": {},
          "execution_count": 11
        }
      ]
    },
    {
      "cell_type": "code",
      "source": [
        "not_target = a[~a['행정동'].str.contains('가양제2동|가양제3동|공항동|등촌제3동|발산제1동|화곡제2동')]\n",
        "target = a[a['행정동'].str.contains('가양제2동|가양제3동|공항동|등촌제3동|발산제1동|화곡제2동')]"
      ],
      "metadata": {
        "id": "mP3vFSYsBYua"
      },
      "execution_count": 12,
      "outputs": []
    },
    {
      "cell_type": "code",
      "source": [
        "idx = list(a[a['행정동'].str.contains('가양제2동|가양제3동|공항동|등촌제3동|발산제1동|화곡제2동')].index)"
      ],
      "metadata": {
        "id": "wrUsOQoHFIi4"
      },
      "execution_count": 13,
      "outputs": []
    },
    {
      "cell_type": "code",
      "source": [
        "a['target'] = np.nan\n",
        "\n",
        "for i in range(len(a)):\n",
        "  if i in idx:\n",
        "    a.loc[i,'target'] = 1\n",
        "  else:\n",
        "    a.loc[i,'target'] = 0"
      ],
      "metadata": {
        "id": "PfjjDWV3E_dK"
      },
      "execution_count": 14,
      "outputs": []
    },
    {
      "cell_type": "code",
      "source": [
        "a.columns"
      ],
      "metadata": {
        "colab": {
          "base_uri": "https://localhost:8080/"
        },
        "id": "RtEykwUEJnHd",
        "outputId": "c72ecaa3-3115-4199-f798-0898397493af"
      },
      "execution_count": 15,
      "outputs": [
        {
          "output_type": "execute_result",
          "data": {
            "text/plain": [
              "Index(['행정동', '키즈카페수', 'p_l', 'sub_num', '정류소수', '유치원명', '특수유아수', '유아수',\n",
              "       '어린이집_어린이수', '0~9세_아동수', '초등학교명', '전체 기초생활수급자수', '결혼이민자',\n",
              "       '귀화 및 외국국적 자녀', '국내출생', '전체 차상위수급권자수', 'target'],\n",
              "      dtype='object')"
            ]
          },
          "metadata": {},
          "execution_count": 15
        }
      ]
    },
    {
      "cell_type": "code",
      "source": [
        "import seaborn as sns\n",
        "\n",
        "sns.boxplot(x=\"target\", y='키즈카페수', data=a)\n",
        "plt.title(\"키즈카페 수 비교\")\n",
        "plt.show()"
      ],
      "metadata": {
        "colab": {
          "base_uri": "https://localhost:8080/",
          "height": 297
        },
        "id": "8n-6bQcwDfLA",
        "outputId": "fbe33fd2-a315-4c69-f5f6-7470930fa007"
      },
      "execution_count": 16,
      "outputs": [
        {
          "output_type": "display_data",
          "data": {
            "text/plain": [
              "<Figure size 432x288 with 1 Axes>"
            ],
            "image/png": "[encoded data removed]"
          },
          "metadata": {
            "image/png": {
              "width": 382,
              "height": 280
            },
            "needs_background": "light"
          }
        }
      ]
    },
    {
      "cell_type": "markdown",
      "source": [
        "선정한 행정동의 키즈카페수가 적음"
      ],
      "metadata": {
        "id": "XAJKeIfnO6Q6"
      }
    },
    {
      "cell_type": "code",
      "source": [
        "sns.boxplot(x=\"target\", y='유아수', data=a)\n",
        "plt.title(\"유아수 비교\")\n",
        "plt.show()"
      ],
      "metadata": {
        "colab": {
          "base_uri": "https://localhost:8080/",
          "height": 297
        },
        "id": "vY8ir16YIlNM",
        "outputId": "1afb27bd-8e6a-4cbd-e66c-c4338a087e8c"
      },
      "execution_count": 17,
      "outputs": [
        {
          "output_type": "display_data",
          "data": {
            "text/plain": [
              "<Figure size 432x288 with 1 Axes>"
            ],
            "image/png": "[encoded data removed]"
          },
          "metadata": {
            "image/png": {
              "width": 388,
              "height": 280
            },
            "needs_background": "light"
          }
        }
      ]
    },
    {
      "cell_type": "markdown",
      "source": [
        "타겟 행정동의 유아수가 다른 행정동보다 많음"
      ],
      "metadata": {
        "id": "NhQ-1n7NPQsE"
      }
    },
    {
      "cell_type": "code",
      "source": [
        "sns.boxplot(x=\"target\", y='전체 기초생활수급자수', data=a)\n",
        "plt.title(\"기초생활수급자 수 비교\")\n",
        "plt.show()"
      ],
      "metadata": {
        "colab": {
          "base_uri": "https://localhost:8080/",
          "height": 297
        },
        "id": "_XBnSpZdJzlK",
        "outputId": "de0c8b74-89a1-41e0-abf0-d1ffafe15eff"
      },
      "execution_count": 20,
      "outputs": [
        {
          "output_type": "display_data",
          "data": {
            "text/plain": [
              "<Figure size 432x288 with 1 Axes>"
            ],
            "image/png": "[encoded data removed]"
          },
          "metadata": {
            "image/png": {
              "width": 394,
              "height": 280
            },
            "needs_background": "light"
          }
        }
      ]
    },
    {
      "cell_type": "markdown",
      "source": [
        "기초생활수급자 수도 많다고 볼 수 있음"
      ],
      "metadata": {
        "id": "6-FRg-KIPe5Z"
      }
    },
    {
      "cell_type": "code",
      "source": [
        "sns.boxplot(x=\"target\", y='전체 차상위수급권자수', data=a)\n",
        "plt.title(\"차상위수급권자 수 비교\")\n",
        "plt.show()"
      ],
      "metadata": {
        "colab": {
          "base_uri": "https://localhost:8080/",
          "height": 297
        },
        "id": "A9uwu7Y-PYTm",
        "outputId": "363f3c01-0e6b-4e09-a224-d1e3b952e196"
      },
      "execution_count": 21,
      "outputs": [
        {
          "output_type": "display_data",
          "data": {
            "text/plain": [
              "<Figure size 432x288 with 1 Axes>"
            ],
            "image/png": "[encoded data removed]"
          },
          "metadata": {
            "image/png": {
              "width": 394,
              "height": 280
            },
            "needs_background": "light"
          }
        }
      ]
    },
    {
      "cell_type": "markdown",
      "source": [
        "차상위수급권자수는 차이를 크게 보임"
      ],
      "metadata": {
        "id": "FPiMIV4IPpvW"
      }
    }
  ]
}